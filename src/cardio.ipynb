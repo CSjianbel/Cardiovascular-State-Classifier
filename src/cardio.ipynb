{
 "cells": [
  {
   "cell_type": "markdown",
   "id": "5921a008-24a7-4c0c-a13b-5d1ce425e3a0",
   "metadata": {},
   "source": [
    "# Import Required Libraries "
   ]
  },
  {
   "cell_type": "code",
   "execution_count": 351,
   "id": "87a45a78-97b1-4b13-8539-333be78c2814",
   "metadata": {},
   "outputs": [],
   "source": [
    "import pandas as pd\n",
    "from sklearn.preprocessing import StandardScaler\n",
    "from sklearn.neural_network import MLPClassifier\n",
    "from sklearn.model_selection import cross_validate\n",
    "from sklearn.linear_model import LogisticRegression"
   ]
  },
  {
   "cell_type": "markdown",
   "id": "86115598-0d54-407d-872a-1f149d6d7061",
   "metadata": {},
   "source": [
    "# Load Data"
   ]
  },
  {
   "cell_type": "code",
   "execution_count": 352,
   "id": "8150d3cf-7454-49cc-ab66-eaf42a48ff82",
   "metadata": {},
   "outputs": [],
   "source": [
    "DF = pd.read_csv(\"./data/cardio_train.csv\")"
   ]
  },
  {
   "cell_type": "code",
   "execution_count": 353,
   "id": "e15bda32-0013-4aee-abf3-137523c80d1d",
   "metadata": {},
   "outputs": [
    {
     "data": {
      "text/html": [
       "<div>\n",
       "<style scoped>\n",
       "    .dataframe tbody tr th:only-of-type {\n",
       "        vertical-align: middle;\n",
       "    }\n",
       "\n",
       "    .dataframe tbody tr th {\n",
       "        vertical-align: top;\n",
       "    }\n",
       "\n",
       "    .dataframe thead th {\n",
       "        text-align: right;\n",
       "    }\n",
       "</style>\n",
       "<table border=\"1\" class=\"dataframe\">\n",
       "  <thead>\n",
       "    <tr style=\"text-align: right;\">\n",
       "      <th></th>\n",
       "      <th>id</th>\n",
       "      <th>age</th>\n",
       "      <th>gender</th>\n",
       "      <th>height</th>\n",
       "      <th>weight</th>\n",
       "      <th>ap_hi</th>\n",
       "      <th>ap_lo</th>\n",
       "      <th>cholesterol</th>\n",
       "      <th>gluc</th>\n",
       "      <th>smoke</th>\n",
       "      <th>alco</th>\n",
       "      <th>active</th>\n",
       "      <th>cardio</th>\n",
       "    </tr>\n",
       "  </thead>\n",
       "  <tbody>\n",
       "    <tr>\n",
       "      <th>0</th>\n",
       "      <td>0</td>\n",
       "      <td>18393</td>\n",
       "      <td>2</td>\n",
       "      <td>168</td>\n",
       "      <td>62.0</td>\n",
       "      <td>110</td>\n",
       "      <td>80</td>\n",
       "      <td>1</td>\n",
       "      <td>1</td>\n",
       "      <td>0</td>\n",
       "      <td>0</td>\n",
       "      <td>1</td>\n",
       "      <td>0</td>\n",
       "    </tr>\n",
       "    <tr>\n",
       "      <th>1</th>\n",
       "      <td>1</td>\n",
       "      <td>20228</td>\n",
       "      <td>1</td>\n",
       "      <td>156</td>\n",
       "      <td>85.0</td>\n",
       "      <td>140</td>\n",
       "      <td>90</td>\n",
       "      <td>3</td>\n",
       "      <td>1</td>\n",
       "      <td>0</td>\n",
       "      <td>0</td>\n",
       "      <td>1</td>\n",
       "      <td>1</td>\n",
       "    </tr>\n",
       "    <tr>\n",
       "      <th>2</th>\n",
       "      <td>2</td>\n",
       "      <td>18857</td>\n",
       "      <td>1</td>\n",
       "      <td>165</td>\n",
       "      <td>64.0</td>\n",
       "      <td>130</td>\n",
       "      <td>70</td>\n",
       "      <td>3</td>\n",
       "      <td>1</td>\n",
       "      <td>0</td>\n",
       "      <td>0</td>\n",
       "      <td>0</td>\n",
       "      <td>1</td>\n",
       "    </tr>\n",
       "    <tr>\n",
       "      <th>3</th>\n",
       "      <td>3</td>\n",
       "      <td>17623</td>\n",
       "      <td>2</td>\n",
       "      <td>169</td>\n",
       "      <td>82.0</td>\n",
       "      <td>150</td>\n",
       "      <td>100</td>\n",
       "      <td>1</td>\n",
       "      <td>1</td>\n",
       "      <td>0</td>\n",
       "      <td>0</td>\n",
       "      <td>1</td>\n",
       "      <td>1</td>\n",
       "    </tr>\n",
       "    <tr>\n",
       "      <th>4</th>\n",
       "      <td>4</td>\n",
       "      <td>17474</td>\n",
       "      <td>1</td>\n",
       "      <td>156</td>\n",
       "      <td>56.0</td>\n",
       "      <td>100</td>\n",
       "      <td>60</td>\n",
       "      <td>1</td>\n",
       "      <td>1</td>\n",
       "      <td>0</td>\n",
       "      <td>0</td>\n",
       "      <td>0</td>\n",
       "      <td>0</td>\n",
       "    </tr>\n",
       "    <tr>\n",
       "      <th>...</th>\n",
       "      <td>...</td>\n",
       "      <td>...</td>\n",
       "      <td>...</td>\n",
       "      <td>...</td>\n",
       "      <td>...</td>\n",
       "      <td>...</td>\n",
       "      <td>...</td>\n",
       "      <td>...</td>\n",
       "      <td>...</td>\n",
       "      <td>...</td>\n",
       "      <td>...</td>\n",
       "      <td>...</td>\n",
       "      <td>...</td>\n",
       "    </tr>\n",
       "    <tr>\n",
       "      <th>69995</th>\n",
       "      <td>99993</td>\n",
       "      <td>19240</td>\n",
       "      <td>2</td>\n",
       "      <td>168</td>\n",
       "      <td>76.0</td>\n",
       "      <td>120</td>\n",
       "      <td>80</td>\n",
       "      <td>1</td>\n",
       "      <td>1</td>\n",
       "      <td>1</td>\n",
       "      <td>0</td>\n",
       "      <td>1</td>\n",
       "      <td>0</td>\n",
       "    </tr>\n",
       "    <tr>\n",
       "      <th>69996</th>\n",
       "      <td>99995</td>\n",
       "      <td>22601</td>\n",
       "      <td>1</td>\n",
       "      <td>158</td>\n",
       "      <td>126.0</td>\n",
       "      <td>140</td>\n",
       "      <td>90</td>\n",
       "      <td>2</td>\n",
       "      <td>2</td>\n",
       "      <td>0</td>\n",
       "      <td>0</td>\n",
       "      <td>1</td>\n",
       "      <td>1</td>\n",
       "    </tr>\n",
       "    <tr>\n",
       "      <th>69997</th>\n",
       "      <td>99996</td>\n",
       "      <td>19066</td>\n",
       "      <td>2</td>\n",
       "      <td>183</td>\n",
       "      <td>105.0</td>\n",
       "      <td>180</td>\n",
       "      <td>90</td>\n",
       "      <td>3</td>\n",
       "      <td>1</td>\n",
       "      <td>0</td>\n",
       "      <td>1</td>\n",
       "      <td>0</td>\n",
       "      <td>1</td>\n",
       "    </tr>\n",
       "    <tr>\n",
       "      <th>69998</th>\n",
       "      <td>99998</td>\n",
       "      <td>22431</td>\n",
       "      <td>1</td>\n",
       "      <td>163</td>\n",
       "      <td>72.0</td>\n",
       "      <td>135</td>\n",
       "      <td>80</td>\n",
       "      <td>1</td>\n",
       "      <td>2</td>\n",
       "      <td>0</td>\n",
       "      <td>0</td>\n",
       "      <td>0</td>\n",
       "      <td>1</td>\n",
       "    </tr>\n",
       "    <tr>\n",
       "      <th>69999</th>\n",
       "      <td>99999</td>\n",
       "      <td>20540</td>\n",
       "      <td>1</td>\n",
       "      <td>170</td>\n",
       "      <td>72.0</td>\n",
       "      <td>120</td>\n",
       "      <td>80</td>\n",
       "      <td>2</td>\n",
       "      <td>1</td>\n",
       "      <td>0</td>\n",
       "      <td>0</td>\n",
       "      <td>1</td>\n",
       "      <td>0</td>\n",
       "    </tr>\n",
       "  </tbody>\n",
       "</table>\n",
       "<p>70000 rows × 13 columns</p>\n",
       "</div>"
      ],
      "text/plain": [
       "          id    age  gender  height  weight  ap_hi  ap_lo  cholesterol  gluc  \\\n",
       "0          0  18393       2     168    62.0    110     80            1     1   \n",
       "1          1  20228       1     156    85.0    140     90            3     1   \n",
       "2          2  18857       1     165    64.0    130     70            3     1   \n",
       "3          3  17623       2     169    82.0    150    100            1     1   \n",
       "4          4  17474       1     156    56.0    100     60            1     1   \n",
       "...      ...    ...     ...     ...     ...    ...    ...          ...   ...   \n",
       "69995  99993  19240       2     168    76.0    120     80            1     1   \n",
       "69996  99995  22601       1     158   126.0    140     90            2     2   \n",
       "69997  99996  19066       2     183   105.0    180     90            3     1   \n",
       "69998  99998  22431       1     163    72.0    135     80            1     2   \n",
       "69999  99999  20540       1     170    72.0    120     80            2     1   \n",
       "\n",
       "       smoke  alco  active  cardio  \n",
       "0          0     0       1       0  \n",
       "1          0     0       1       1  \n",
       "2          0     0       0       1  \n",
       "3          0     0       1       1  \n",
       "4          0     0       0       0  \n",
       "...      ...   ...     ...     ...  \n",
       "69995      1     0       1       0  \n",
       "69996      0     0       1       1  \n",
       "69997      0     1       0       1  \n",
       "69998      0     0       0       1  \n",
       "69999      0     0       1       0  \n",
       "\n",
       "[70000 rows x 13 columns]"
      ]
     },
     "execution_count": 353,
     "metadata": {},
     "output_type": "execute_result"
    }
   ],
   "source": [
    "DF"
   ]
  },
  {
   "cell_type": "markdown",
   "id": "f9859e17-ba19-4467-ad24-e2d1a2828df8",
   "metadata": {},
   "source": [
    "## Add BMI column"
   ]
  },
  {
   "cell_type": "code",
   "execution_count": 354,
   "id": "7f91169f-6b49-4c63-8ce5-0f279a9ba378",
   "metadata": {},
   "outputs": [],
   "source": [
    "DF[\"BMI\"] = DF[\"weight\"]/((DF[\"height\"]/100)**2)"
   ]
  },
  {
   "cell_type": "code",
   "execution_count": 355,
   "id": "bbf1e20b-39ad-4d55-b139-e76ba803204c",
   "metadata": {},
   "outputs": [
    {
     "data": {
      "text/html": [
       "<div>\n",
       "<style scoped>\n",
       "    .dataframe tbody tr th:only-of-type {\n",
       "        vertical-align: middle;\n",
       "    }\n",
       "\n",
       "    .dataframe tbody tr th {\n",
       "        vertical-align: top;\n",
       "    }\n",
       "\n",
       "    .dataframe thead th {\n",
       "        text-align: right;\n",
       "    }\n",
       "</style>\n",
       "<table border=\"1\" class=\"dataframe\">\n",
       "  <thead>\n",
       "    <tr style=\"text-align: right;\">\n",
       "      <th></th>\n",
       "      <th>id</th>\n",
       "      <th>age</th>\n",
       "      <th>gender</th>\n",
       "      <th>height</th>\n",
       "      <th>weight</th>\n",
       "      <th>ap_hi</th>\n",
       "      <th>ap_lo</th>\n",
       "      <th>cholesterol</th>\n",
       "      <th>gluc</th>\n",
       "      <th>smoke</th>\n",
       "      <th>alco</th>\n",
       "      <th>active</th>\n",
       "      <th>cardio</th>\n",
       "      <th>BMI</th>\n",
       "    </tr>\n",
       "  </thead>\n",
       "  <tbody>\n",
       "    <tr>\n",
       "      <th>count</th>\n",
       "      <td>70000.000000</td>\n",
       "      <td>70000.000000</td>\n",
       "      <td>70000.000000</td>\n",
       "      <td>70000.000000</td>\n",
       "      <td>70000.000000</td>\n",
       "      <td>70000.000000</td>\n",
       "      <td>70000.000000</td>\n",
       "      <td>70000.000000</td>\n",
       "      <td>70000.000000</td>\n",
       "      <td>70000.000000</td>\n",
       "      <td>70000.000000</td>\n",
       "      <td>70000.000000</td>\n",
       "      <td>70000.000000</td>\n",
       "      <td>70000.000000</td>\n",
       "    </tr>\n",
       "    <tr>\n",
       "      <th>mean</th>\n",
       "      <td>49972.419900</td>\n",
       "      <td>19468.865814</td>\n",
       "      <td>1.349571</td>\n",
       "      <td>164.359229</td>\n",
       "      <td>74.205690</td>\n",
       "      <td>128.817286</td>\n",
       "      <td>96.630414</td>\n",
       "      <td>1.366871</td>\n",
       "      <td>1.226457</td>\n",
       "      <td>0.088129</td>\n",
       "      <td>0.053771</td>\n",
       "      <td>0.803729</td>\n",
       "      <td>0.499700</td>\n",
       "      <td>27.556513</td>\n",
       "    </tr>\n",
       "    <tr>\n",
       "      <th>std</th>\n",
       "      <td>28851.302323</td>\n",
       "      <td>2467.251667</td>\n",
       "      <td>0.476838</td>\n",
       "      <td>8.210126</td>\n",
       "      <td>14.395757</td>\n",
       "      <td>154.011419</td>\n",
       "      <td>188.472530</td>\n",
       "      <td>0.680250</td>\n",
       "      <td>0.572270</td>\n",
       "      <td>0.283484</td>\n",
       "      <td>0.225568</td>\n",
       "      <td>0.397179</td>\n",
       "      <td>0.500003</td>\n",
       "      <td>6.091511</td>\n",
       "    </tr>\n",
       "    <tr>\n",
       "      <th>min</th>\n",
       "      <td>0.000000</td>\n",
       "      <td>10798.000000</td>\n",
       "      <td>1.000000</td>\n",
       "      <td>55.000000</td>\n",
       "      <td>10.000000</td>\n",
       "      <td>-150.000000</td>\n",
       "      <td>-70.000000</td>\n",
       "      <td>1.000000</td>\n",
       "      <td>1.000000</td>\n",
       "      <td>0.000000</td>\n",
       "      <td>0.000000</td>\n",
       "      <td>0.000000</td>\n",
       "      <td>0.000000</td>\n",
       "      <td>3.471784</td>\n",
       "    </tr>\n",
       "    <tr>\n",
       "      <th>25%</th>\n",
       "      <td>25006.750000</td>\n",
       "      <td>17664.000000</td>\n",
       "      <td>1.000000</td>\n",
       "      <td>159.000000</td>\n",
       "      <td>65.000000</td>\n",
       "      <td>120.000000</td>\n",
       "      <td>80.000000</td>\n",
       "      <td>1.000000</td>\n",
       "      <td>1.000000</td>\n",
       "      <td>0.000000</td>\n",
       "      <td>0.000000</td>\n",
       "      <td>1.000000</td>\n",
       "      <td>0.000000</td>\n",
       "      <td>23.875115</td>\n",
       "    </tr>\n",
       "    <tr>\n",
       "      <th>50%</th>\n",
       "      <td>50001.500000</td>\n",
       "      <td>19703.000000</td>\n",
       "      <td>1.000000</td>\n",
       "      <td>165.000000</td>\n",
       "      <td>72.000000</td>\n",
       "      <td>120.000000</td>\n",
       "      <td>80.000000</td>\n",
       "      <td>1.000000</td>\n",
       "      <td>1.000000</td>\n",
       "      <td>0.000000</td>\n",
       "      <td>0.000000</td>\n",
       "      <td>1.000000</td>\n",
       "      <td>0.000000</td>\n",
       "      <td>26.374068</td>\n",
       "    </tr>\n",
       "    <tr>\n",
       "      <th>75%</th>\n",
       "      <td>74889.250000</td>\n",
       "      <td>21327.000000</td>\n",
       "      <td>2.000000</td>\n",
       "      <td>170.000000</td>\n",
       "      <td>82.000000</td>\n",
       "      <td>140.000000</td>\n",
       "      <td>90.000000</td>\n",
       "      <td>2.000000</td>\n",
       "      <td>1.000000</td>\n",
       "      <td>0.000000</td>\n",
       "      <td>0.000000</td>\n",
       "      <td>1.000000</td>\n",
       "      <td>1.000000</td>\n",
       "      <td>30.222222</td>\n",
       "    </tr>\n",
       "    <tr>\n",
       "      <th>max</th>\n",
       "      <td>99999.000000</td>\n",
       "      <td>23713.000000</td>\n",
       "      <td>2.000000</td>\n",
       "      <td>250.000000</td>\n",
       "      <td>200.000000</td>\n",
       "      <td>16020.000000</td>\n",
       "      <td>11000.000000</td>\n",
       "      <td>3.000000</td>\n",
       "      <td>3.000000</td>\n",
       "      <td>1.000000</td>\n",
       "      <td>1.000000</td>\n",
       "      <td>1.000000</td>\n",
       "      <td>1.000000</td>\n",
       "      <td>298.666667</td>\n",
       "    </tr>\n",
       "  </tbody>\n",
       "</table>\n",
       "</div>"
      ],
      "text/plain": [
       "                 id           age        gender        height        weight  \\\n",
       "count  70000.000000  70000.000000  70000.000000  70000.000000  70000.000000   \n",
       "mean   49972.419900  19468.865814      1.349571    164.359229     74.205690   \n",
       "std    28851.302323   2467.251667      0.476838      8.210126     14.395757   \n",
       "min        0.000000  10798.000000      1.000000     55.000000     10.000000   \n",
       "25%    25006.750000  17664.000000      1.000000    159.000000     65.000000   \n",
       "50%    50001.500000  19703.000000      1.000000    165.000000     72.000000   \n",
       "75%    74889.250000  21327.000000      2.000000    170.000000     82.000000   \n",
       "max    99999.000000  23713.000000      2.000000    250.000000    200.000000   \n",
       "\n",
       "              ap_hi         ap_lo   cholesterol          gluc         smoke  \\\n",
       "count  70000.000000  70000.000000  70000.000000  70000.000000  70000.000000   \n",
       "mean     128.817286     96.630414      1.366871      1.226457      0.088129   \n",
       "std      154.011419    188.472530      0.680250      0.572270      0.283484   \n",
       "min     -150.000000    -70.000000      1.000000      1.000000      0.000000   \n",
       "25%      120.000000     80.000000      1.000000      1.000000      0.000000   \n",
       "50%      120.000000     80.000000      1.000000      1.000000      0.000000   \n",
       "75%      140.000000     90.000000      2.000000      1.000000      0.000000   \n",
       "max    16020.000000  11000.000000      3.000000      3.000000      1.000000   \n",
       "\n",
       "               alco        active        cardio           BMI  \n",
       "count  70000.000000  70000.000000  70000.000000  70000.000000  \n",
       "mean       0.053771      0.803729      0.499700     27.556513  \n",
       "std        0.225568      0.397179      0.500003      6.091511  \n",
       "min        0.000000      0.000000      0.000000      3.471784  \n",
       "25%        0.000000      1.000000      0.000000     23.875115  \n",
       "50%        0.000000      1.000000      0.000000     26.374068  \n",
       "75%        0.000000      1.000000      1.000000     30.222222  \n",
       "max        1.000000      1.000000      1.000000    298.666667  "
      ]
     },
     "execution_count": 355,
     "metadata": {},
     "output_type": "execute_result"
    }
   ],
   "source": [
    "DF.describe()"
   ]
  },
  {
   "cell_type": "code",
   "execution_count": 356,
   "id": "a4054403-d072-4f21-89f7-7cc9524de0ea",
   "metadata": {},
   "outputs": [],
   "source": [
    "y = DF[[\"cardio\"]]"
   ]
  },
  {
   "cell_type": "code",
   "execution_count": 357,
   "id": "38da69b3-f87a-47c6-9738-e470226f7bc5",
   "metadata": {},
   "outputs": [
    {
     "data": {
      "text/html": [
       "<div>\n",
       "<style scoped>\n",
       "    .dataframe tbody tr th:only-of-type {\n",
       "        vertical-align: middle;\n",
       "    }\n",
       "\n",
       "    .dataframe tbody tr th {\n",
       "        vertical-align: top;\n",
       "    }\n",
       "\n",
       "    .dataframe thead th {\n",
       "        text-align: right;\n",
       "    }\n",
       "</style>\n",
       "<table border=\"1\" class=\"dataframe\">\n",
       "  <thead>\n",
       "    <tr style=\"text-align: right;\">\n",
       "      <th></th>\n",
       "      <th>cardio</th>\n",
       "    </tr>\n",
       "  </thead>\n",
       "  <tbody>\n",
       "    <tr>\n",
       "      <th>0</th>\n",
       "      <td>0</td>\n",
       "    </tr>\n",
       "    <tr>\n",
       "      <th>1</th>\n",
       "      <td>1</td>\n",
       "    </tr>\n",
       "    <tr>\n",
       "      <th>2</th>\n",
       "      <td>1</td>\n",
       "    </tr>\n",
       "    <tr>\n",
       "      <th>3</th>\n",
       "      <td>1</td>\n",
       "    </tr>\n",
       "    <tr>\n",
       "      <th>4</th>\n",
       "      <td>0</td>\n",
       "    </tr>\n",
       "    <tr>\n",
       "      <th>...</th>\n",
       "      <td>...</td>\n",
       "    </tr>\n",
       "    <tr>\n",
       "      <th>69995</th>\n",
       "      <td>0</td>\n",
       "    </tr>\n",
       "    <tr>\n",
       "      <th>69996</th>\n",
       "      <td>1</td>\n",
       "    </tr>\n",
       "    <tr>\n",
       "      <th>69997</th>\n",
       "      <td>1</td>\n",
       "    </tr>\n",
       "    <tr>\n",
       "      <th>69998</th>\n",
       "      <td>1</td>\n",
       "    </tr>\n",
       "    <tr>\n",
       "      <th>69999</th>\n",
       "      <td>0</td>\n",
       "    </tr>\n",
       "  </tbody>\n",
       "</table>\n",
       "<p>70000 rows × 1 columns</p>\n",
       "</div>"
      ],
      "text/plain": [
       "       cardio\n",
       "0           0\n",
       "1           1\n",
       "2           1\n",
       "3           1\n",
       "4           0\n",
       "...       ...\n",
       "69995       0\n",
       "69996       1\n",
       "69997       1\n",
       "69998       1\n",
       "69999       0\n",
       "\n",
       "[70000 rows x 1 columns]"
      ]
     },
     "execution_count": 357,
     "metadata": {},
     "output_type": "execute_result"
    }
   ],
   "source": [
    "y"
   ]
  },
  {
   "cell_type": "code",
   "execution_count": 358,
   "id": "c5efbd2c-88a2-439e-b9f4-bb772c75a2b5",
   "metadata": {},
   "outputs": [],
   "source": [
    "X = DF[[col for col in DF.columns if col not in [\"cardio\", \"id\"]]]"
   ]
  },
  {
   "cell_type": "code",
   "execution_count": 359,
   "id": "b88e1988-d655-417f-a19b-92bff227041b",
   "metadata": {},
   "outputs": [
    {
     "data": {
      "text/html": [
       "<div>\n",
       "<style scoped>\n",
       "    .dataframe tbody tr th:only-of-type {\n",
       "        vertical-align: middle;\n",
       "    }\n",
       "\n",
       "    .dataframe tbody tr th {\n",
       "        vertical-align: top;\n",
       "    }\n",
       "\n",
       "    .dataframe thead th {\n",
       "        text-align: right;\n",
       "    }\n",
       "</style>\n",
       "<table border=\"1\" class=\"dataframe\">\n",
       "  <thead>\n",
       "    <tr style=\"text-align: right;\">\n",
       "      <th></th>\n",
       "      <th>age</th>\n",
       "      <th>gender</th>\n",
       "      <th>height</th>\n",
       "      <th>weight</th>\n",
       "      <th>ap_hi</th>\n",
       "      <th>ap_lo</th>\n",
       "      <th>cholesterol</th>\n",
       "      <th>gluc</th>\n",
       "      <th>smoke</th>\n",
       "      <th>alco</th>\n",
       "      <th>active</th>\n",
       "      <th>BMI</th>\n",
       "    </tr>\n",
       "  </thead>\n",
       "  <tbody>\n",
       "    <tr>\n",
       "      <th>0</th>\n",
       "      <td>18393</td>\n",
       "      <td>2</td>\n",
       "      <td>168</td>\n",
       "      <td>62.0</td>\n",
       "      <td>110</td>\n",
       "      <td>80</td>\n",
       "      <td>1</td>\n",
       "      <td>1</td>\n",
       "      <td>0</td>\n",
       "      <td>0</td>\n",
       "      <td>1</td>\n",
       "      <td>21.967120</td>\n",
       "    </tr>\n",
       "    <tr>\n",
       "      <th>1</th>\n",
       "      <td>20228</td>\n",
       "      <td>1</td>\n",
       "      <td>156</td>\n",
       "      <td>85.0</td>\n",
       "      <td>140</td>\n",
       "      <td>90</td>\n",
       "      <td>3</td>\n",
       "      <td>1</td>\n",
       "      <td>0</td>\n",
       "      <td>0</td>\n",
       "      <td>1</td>\n",
       "      <td>34.927679</td>\n",
       "    </tr>\n",
       "    <tr>\n",
       "      <th>2</th>\n",
       "      <td>18857</td>\n",
       "      <td>1</td>\n",
       "      <td>165</td>\n",
       "      <td>64.0</td>\n",
       "      <td>130</td>\n",
       "      <td>70</td>\n",
       "      <td>3</td>\n",
       "      <td>1</td>\n",
       "      <td>0</td>\n",
       "      <td>0</td>\n",
       "      <td>0</td>\n",
       "      <td>23.507805</td>\n",
       "    </tr>\n",
       "    <tr>\n",
       "      <th>3</th>\n",
       "      <td>17623</td>\n",
       "      <td>2</td>\n",
       "      <td>169</td>\n",
       "      <td>82.0</td>\n",
       "      <td>150</td>\n",
       "      <td>100</td>\n",
       "      <td>1</td>\n",
       "      <td>1</td>\n",
       "      <td>0</td>\n",
       "      <td>0</td>\n",
       "      <td>1</td>\n",
       "      <td>28.710479</td>\n",
       "    </tr>\n",
       "    <tr>\n",
       "      <th>4</th>\n",
       "      <td>17474</td>\n",
       "      <td>1</td>\n",
       "      <td>156</td>\n",
       "      <td>56.0</td>\n",
       "      <td>100</td>\n",
       "      <td>60</td>\n",
       "      <td>1</td>\n",
       "      <td>1</td>\n",
       "      <td>0</td>\n",
       "      <td>0</td>\n",
       "      <td>0</td>\n",
       "      <td>23.011177</td>\n",
       "    </tr>\n",
       "    <tr>\n",
       "      <th>...</th>\n",
       "      <td>...</td>\n",
       "      <td>...</td>\n",
       "      <td>...</td>\n",
       "      <td>...</td>\n",
       "      <td>...</td>\n",
       "      <td>...</td>\n",
       "      <td>...</td>\n",
       "      <td>...</td>\n",
       "      <td>...</td>\n",
       "      <td>...</td>\n",
       "      <td>...</td>\n",
       "      <td>...</td>\n",
       "    </tr>\n",
       "    <tr>\n",
       "      <th>69995</th>\n",
       "      <td>19240</td>\n",
       "      <td>2</td>\n",
       "      <td>168</td>\n",
       "      <td>76.0</td>\n",
       "      <td>120</td>\n",
       "      <td>80</td>\n",
       "      <td>1</td>\n",
       "      <td>1</td>\n",
       "      <td>1</td>\n",
       "      <td>0</td>\n",
       "      <td>1</td>\n",
       "      <td>26.927438</td>\n",
       "    </tr>\n",
       "    <tr>\n",
       "      <th>69996</th>\n",
       "      <td>22601</td>\n",
       "      <td>1</td>\n",
       "      <td>158</td>\n",
       "      <td>126.0</td>\n",
       "      <td>140</td>\n",
       "      <td>90</td>\n",
       "      <td>2</td>\n",
       "      <td>2</td>\n",
       "      <td>0</td>\n",
       "      <td>0</td>\n",
       "      <td>1</td>\n",
       "      <td>50.472681</td>\n",
       "    </tr>\n",
       "    <tr>\n",
       "      <th>69997</th>\n",
       "      <td>19066</td>\n",
       "      <td>2</td>\n",
       "      <td>183</td>\n",
       "      <td>105.0</td>\n",
       "      <td>180</td>\n",
       "      <td>90</td>\n",
       "      <td>3</td>\n",
       "      <td>1</td>\n",
       "      <td>0</td>\n",
       "      <td>1</td>\n",
       "      <td>0</td>\n",
       "      <td>31.353579</td>\n",
       "    </tr>\n",
       "    <tr>\n",
       "      <th>69998</th>\n",
       "      <td>22431</td>\n",
       "      <td>1</td>\n",
       "      <td>163</td>\n",
       "      <td>72.0</td>\n",
       "      <td>135</td>\n",
       "      <td>80</td>\n",
       "      <td>1</td>\n",
       "      <td>2</td>\n",
       "      <td>0</td>\n",
       "      <td>0</td>\n",
       "      <td>0</td>\n",
       "      <td>27.099251</td>\n",
       "    </tr>\n",
       "    <tr>\n",
       "      <th>69999</th>\n",
       "      <td>20540</td>\n",
       "      <td>1</td>\n",
       "      <td>170</td>\n",
       "      <td>72.0</td>\n",
       "      <td>120</td>\n",
       "      <td>80</td>\n",
       "      <td>2</td>\n",
       "      <td>1</td>\n",
       "      <td>0</td>\n",
       "      <td>0</td>\n",
       "      <td>1</td>\n",
       "      <td>24.913495</td>\n",
       "    </tr>\n",
       "  </tbody>\n",
       "</table>\n",
       "<p>70000 rows × 12 columns</p>\n",
       "</div>"
      ],
      "text/plain": [
       "         age  gender  height  weight  ap_hi  ap_lo  cholesterol  gluc  smoke  \\\n",
       "0      18393       2     168    62.0    110     80            1     1      0   \n",
       "1      20228       1     156    85.0    140     90            3     1      0   \n",
       "2      18857       1     165    64.0    130     70            3     1      0   \n",
       "3      17623       2     169    82.0    150    100            1     1      0   \n",
       "4      17474       1     156    56.0    100     60            1     1      0   \n",
       "...      ...     ...     ...     ...    ...    ...          ...   ...    ...   \n",
       "69995  19240       2     168    76.0    120     80            1     1      1   \n",
       "69996  22601       1     158   126.0    140     90            2     2      0   \n",
       "69997  19066       2     183   105.0    180     90            3     1      0   \n",
       "69998  22431       1     163    72.0    135     80            1     2      0   \n",
       "69999  20540       1     170    72.0    120     80            2     1      0   \n",
       "\n",
       "       alco  active        BMI  \n",
       "0         0       1  21.967120  \n",
       "1         0       1  34.927679  \n",
       "2         0       0  23.507805  \n",
       "3         0       1  28.710479  \n",
       "4         0       0  23.011177  \n",
       "...     ...     ...        ...  \n",
       "69995     0       1  26.927438  \n",
       "69996     0       1  50.472681  \n",
       "69997     1       0  31.353579  \n",
       "69998     0       0  27.099251  \n",
       "69999     0       1  24.913495  \n",
       "\n",
       "[70000 rows x 12 columns]"
      ]
     },
     "execution_count": 359,
     "metadata": {},
     "output_type": "execute_result"
    }
   ],
   "source": [
    "X"
   ]
  },
  {
   "cell_type": "markdown",
   "id": "05726293-389f-43e0-a7a9-436c9c1c16fb",
   "metadata": {},
   "source": [
    "## Scale Data"
   ]
  },
  {
   "cell_type": "code",
   "execution_count": 360,
   "id": "f080049c-063e-4716-a0e9-a644379f272f",
   "metadata": {},
   "outputs": [],
   "source": [
    "scaler = StandardScaler().fit(X)\n",
    "\n",
    "scaled = scaler.transform(X)\n",
    "\n",
    "X = pd.DataFrame(X, columns=X.columns)\n",
    "X2 = DF[[col for col in DF.columns if col != \"BMI\"]]"
   ]
  },
  {
   "cell_type": "code",
   "execution_count": 361,
   "id": "bb5edeb5-f27f-4371-91ad-469604b7947a",
   "metadata": {},
   "outputs": [],
   "source": [
    "y = y.values.reshape((y.shape[0],))"
   ]
  },
  {
   "cell_type": "markdown",
   "id": "a6c0cfcc-4840-4240-b6a8-b3ab5694b481",
   "metadata": {},
   "source": [
    "# Multi-layer Perceptron Classifer"
   ]
  },
  {
   "cell_type": "markdown",
   "id": "62fd70fb-7c80-4a4f-aeef-dc11d630edc1",
   "metadata": {},
   "source": [
    "# Model A Configuration\n",
    "\n",
    "- Hidden Layer Sizes = (32, 64)\n",
    "- Alpha = 0.0001\n",
    "- Max Iteration = 1000\n",
    "- Tolerance = 0.00001"
   ]
  },
  {
   "cell_type": "code",
   "execution_count": 362,
   "id": "822fda86-683e-43ed-a7c2-7a1bb7d5bf4f",
   "metadata": {},
   "outputs": [],
   "source": [
    "model_A = MLPClassifier(hidden_layer_sizes=(32, 64), alpha=0.0001, max_iter=1000, tol=0.000001)"
   ]
  },
  {
   "cell_type": "markdown",
   "id": "e07c3c74-f498-4977-9764-829e9aa8b8c3",
   "metadata": {},
   "source": [
    "## Train Model A"
   ]
  },
  {
   "cell_type": "code",
   "execution_count": 363,
   "id": "a260c123-b688-4a69-a475-77097d37ea3e",
   "metadata": {},
   "outputs": [],
   "source": [
    "model_A = model_A.fit(X, y)"
   ]
  },
  {
   "cell_type": "markdown",
   "id": "37a2687c-61be-45ef-9fab-19111186c2b1",
   "metadata": {},
   "source": [
    "## Grade Model A Performance"
   ]
  },
  {
   "cell_type": "code",
   "execution_count": 364,
   "id": "ea60c5bf-9198-41a5-ace9-b077a86eb9f6",
   "metadata": {},
   "outputs": [],
   "source": [
    "model_A_results = cross_validate(model_A, X, y, cv=5, scoring=[\"accuracy\"], return_train_score=True)"
   ]
  },
  {
   "cell_type": "code",
   "execution_count": 365,
   "id": "2cd530eb-7e07-42bf-adc2-105203a9ac41",
   "metadata": {},
   "outputs": [
    {
     "data": {
      "text/html": [
       "<div>\n",
       "<style scoped>\n",
       "    .dataframe tbody tr th:only-of-type {\n",
       "        vertical-align: middle;\n",
       "    }\n",
       "\n",
       "    .dataframe tbody tr th {\n",
       "        vertical-align: top;\n",
       "    }\n",
       "\n",
       "    .dataframe thead th {\n",
       "        text-align: right;\n",
       "    }\n",
       "</style>\n",
       "<table border=\"1\" class=\"dataframe\">\n",
       "  <thead>\n",
       "    <tr style=\"text-align: right;\">\n",
       "      <th></th>\n",
       "      <th>fit_time</th>\n",
       "      <th>score_time</th>\n",
       "      <th>test_accuracy</th>\n",
       "      <th>train_accuracy</th>\n",
       "    </tr>\n",
       "  </thead>\n",
       "  <tbody>\n",
       "    <tr>\n",
       "      <th>0</th>\n",
       "      <td>13.134919</td>\n",
       "      <td>0.015504</td>\n",
       "      <td>0.510643</td>\n",
       "      <td>0.511393</td>\n",
       "    </tr>\n",
       "    <tr>\n",
       "      <th>1</th>\n",
       "      <td>34.850565</td>\n",
       "      <td>0.021515</td>\n",
       "      <td>0.638571</td>\n",
       "      <td>0.638089</td>\n",
       "    </tr>\n",
       "    <tr>\n",
       "      <th>2</th>\n",
       "      <td>18.450644</td>\n",
       "      <td>0.020016</td>\n",
       "      <td>0.500786</td>\n",
       "      <td>0.500036</td>\n",
       "    </tr>\n",
       "    <tr>\n",
       "      <th>3</th>\n",
       "      <td>41.310773</td>\n",
       "      <td>0.027034</td>\n",
       "      <td>0.502214</td>\n",
       "      <td>0.501714</td>\n",
       "    </tr>\n",
       "    <tr>\n",
       "      <th>4</th>\n",
       "      <td>12.992151</td>\n",
       "      <td>0.032535</td>\n",
       "      <td>0.670357</td>\n",
       "      <td>0.675643</td>\n",
       "    </tr>\n",
       "  </tbody>\n",
       "</table>\n",
       "</div>"
      ],
      "text/plain": [
       "    fit_time  score_time  test_accuracy  train_accuracy\n",
       "0  13.134919    0.015504       0.510643        0.511393\n",
       "1  34.850565    0.021515       0.638571        0.638089\n",
       "2  18.450644    0.020016       0.500786        0.500036\n",
       "3  41.310773    0.027034       0.502214        0.501714\n",
       "4  12.992151    0.032535       0.670357        0.675643"
      ]
     },
     "execution_count": 365,
     "metadata": {},
     "output_type": "execute_result"
    }
   ],
   "source": [
    "model_A_results = pd.DataFrame(model_A_results)\n",
    "model_A_results"
   ]
  },
  {
   "cell_type": "code",
   "execution_count": 366,
   "id": "690e22d8-8076-42ba-a830-c705b4d4bc80",
   "metadata": {},
   "outputs": [
    {
     "name": "stdout",
     "output_type": "stream",
     "text": [
      "Average train accuracy: 56.537499999999994%\n",
      "Average test accuracy: 56.45142857142857%\n"
     ]
    }
   ],
   "source": [
    "print(f\"Average train accuracy: {model_A_results['train_accuracy'].mean() * 100}%\")\n",
    "print(f\"Average test accuracy: {model_A_results['test_accuracy'].mean() * 100}%\")"
   ]
  },
  {
   "cell_type": "markdown",
   "id": "ea9c3dad-1f4e-4608-a2af-8d6e9f07068d",
   "metadata": {},
   "source": [
    "## Train Model A without BMI column"
   ]
  },
  {
   "cell_type": "code",
   "execution_count": 367,
   "id": "da15323c-1050-437e-afc8-726c65a7691a",
   "metadata": {},
   "outputs": [],
   "source": [
    "model_A_without_BMI = MLPClassifier(hidden_layer_sizes=(32, 64), alpha=0.0001, max_iter=1000, tol=0.000001)"
   ]
  },
  {
   "cell_type": "code",
   "execution_count": 368,
   "id": "151d0820-d013-4362-9efe-348721c5baca",
   "metadata": {},
   "outputs": [],
   "source": [
    "model_A_without_BMI = model_A_without_BMI.fit(X2, y)"
   ]
  },
  {
   "cell_type": "markdown",
   "id": "b83e8952-4b58-4006-80a5-39d46a229c69",
   "metadata": {},
   "source": [
    "## Grade Model A Performance without BMI Column"
   ]
  },
  {
   "cell_type": "code",
   "execution_count": 369,
   "id": "fa642dde-ff07-4663-8a33-52914ee9154b",
   "metadata": {},
   "outputs": [],
   "source": [
    "model_A_without_BMI_results = cross_validate(model_A_without_BMI, X2, y, cv=5, scoring=[\"accuracy\"], return_train_score=True)"
   ]
  },
  {
   "cell_type": "code",
   "execution_count": 370,
   "id": "33d9fe76-3780-4ed3-bcb0-9fae1e26af61",
   "metadata": {},
   "outputs": [
    {
     "data": {
      "text/html": [
       "<div>\n",
       "<style scoped>\n",
       "    .dataframe tbody tr th:only-of-type {\n",
       "        vertical-align: middle;\n",
       "    }\n",
       "\n",
       "    .dataframe tbody tr th {\n",
       "        vertical-align: top;\n",
       "    }\n",
       "\n",
       "    .dataframe thead th {\n",
       "        text-align: right;\n",
       "    }\n",
       "</style>\n",
       "<table border=\"1\" class=\"dataframe\">\n",
       "  <thead>\n",
       "    <tr style=\"text-align: right;\">\n",
       "      <th></th>\n",
       "      <th>fit_time</th>\n",
       "      <th>score_time</th>\n",
       "      <th>test_accuracy</th>\n",
       "      <th>train_accuracy</th>\n",
       "    </tr>\n",
       "  </thead>\n",
       "  <tbody>\n",
       "    <tr>\n",
       "      <th>0</th>\n",
       "      <td>77.328713</td>\n",
       "      <td>0.026810</td>\n",
       "      <td>0.584071</td>\n",
       "      <td>0.983571</td>\n",
       "    </tr>\n",
       "    <tr>\n",
       "      <th>1</th>\n",
       "      <td>44.880671</td>\n",
       "      <td>0.023637</td>\n",
       "      <td>0.892000</td>\n",
       "      <td>0.707696</td>\n",
       "    </tr>\n",
       "    <tr>\n",
       "      <th>2</th>\n",
       "      <td>26.605440</td>\n",
       "      <td>0.017415</td>\n",
       "      <td>0.518000</td>\n",
       "      <td>0.519429</td>\n",
       "    </tr>\n",
       "    <tr>\n",
       "      <th>3</th>\n",
       "      <td>70.083117</td>\n",
       "      <td>0.022323</td>\n",
       "      <td>0.983500</td>\n",
       "      <td>0.956911</td>\n",
       "    </tr>\n",
       "    <tr>\n",
       "      <th>4</th>\n",
       "      <td>41.877659</td>\n",
       "      <td>0.028703</td>\n",
       "      <td>0.710857</td>\n",
       "      <td>0.782143</td>\n",
       "    </tr>\n",
       "  </tbody>\n",
       "</table>\n",
       "</div>"
      ],
      "text/plain": [
       "    fit_time  score_time  test_accuracy  train_accuracy\n",
       "0  77.328713    0.026810       0.584071        0.983571\n",
       "1  44.880671    0.023637       0.892000        0.707696\n",
       "2  26.605440    0.017415       0.518000        0.519429\n",
       "3  70.083117    0.022323       0.983500        0.956911\n",
       "4  41.877659    0.028703       0.710857        0.782143"
      ]
     },
     "execution_count": 370,
     "metadata": {},
     "output_type": "execute_result"
    }
   ],
   "source": [
    "model_A_without_BMI_results = pd.DataFrame(model_A_without_BMI_results)\n",
    "model_A_without_BMI_results"
   ]
  },
  {
   "cell_type": "code",
   "execution_count": 371,
   "id": "ee8526cf-d93d-49cb-b15c-07e3ba06a293",
   "metadata": {},
   "outputs": [
    {
     "name": "stdout",
     "output_type": "stream",
     "text": [
      "Average train accuracy: 78.99499999999999%\n",
      "Average test accuracy: 73.76857142857143%\n"
     ]
    }
   ],
   "source": [
    "print(f\"Average train accuracy: {model_A_without_BMI_results['train_accuracy'].mean() * 100}%\")\n",
    "print(f\"Average test accuracy: {model_A_without_BMI_results['test_accuracy'].mean() * 100}%\")"
   ]
  },
  {
   "cell_type": "markdown",
   "id": "7f2b9e3f-5c54-4efc-8f03-dd53a936314b",
   "metadata": {},
   "source": [
    "# Model B Configuration\n",
    "\n",
    "- Hidden Layer Sizes = (24, 48)\n",
    "- Alpha = 0.0001\n",
    "- Max Iteration = 1000\n",
    "- Tolerance = 0.00001"
   ]
  },
  {
   "cell_type": "code",
   "execution_count": 372,
   "id": "216ab5b3-51ec-4c60-bd0d-2b93efe9e61c",
   "metadata": {},
   "outputs": [],
   "source": [
    "model_B = MLPClassifier(hidden_layer_sizes=(24, 48), alpha=0.0001, max_iter=500, tol=0.000001)"
   ]
  },
  {
   "cell_type": "markdown",
   "id": "b327cdb0-6021-4ee3-9519-c65fe0aa1137",
   "metadata": {},
   "source": [
    "## Train Model B"
   ]
  },
  {
   "cell_type": "code",
   "execution_count": 373,
   "id": "edb1a424-601d-42e8-a8e0-6f674cf0f0f3",
   "metadata": {},
   "outputs": [],
   "source": [
    "model_B = model_B.fit(X, y)"
   ]
  },
  {
   "cell_type": "markdown",
   "id": "ee0b23af-df9b-4871-b2ca-da75a8b20e50",
   "metadata": {},
   "source": [
    "## Grade Model B Performance "
   ]
  },
  {
   "cell_type": "code",
   "execution_count": 374,
   "id": "c037bce5-d365-4ee2-a6d2-d671edb671f2",
   "metadata": {},
   "outputs": [],
   "source": [
    "model_B_results = cross_validate(model_B, X, y, cv=5, scoring=[\"accuracy\"], return_train_score=True)"
   ]
  },
  {
   "cell_type": "code",
   "execution_count": 375,
   "id": "baed0009-4a6a-4df1-bd21-ee6019d94582",
   "metadata": {},
   "outputs": [
    {
     "data": {
      "text/html": [
       "<div>\n",
       "<style scoped>\n",
       "    .dataframe tbody tr th:only-of-type {\n",
       "        vertical-align: middle;\n",
       "    }\n",
       "\n",
       "    .dataframe tbody tr th {\n",
       "        vertical-align: top;\n",
       "    }\n",
       "\n",
       "    .dataframe thead th {\n",
       "        text-align: right;\n",
       "    }\n",
       "</style>\n",
       "<table border=\"1\" class=\"dataframe\">\n",
       "  <thead>\n",
       "    <tr style=\"text-align: right;\">\n",
       "      <th></th>\n",
       "      <th>fit_time</th>\n",
       "      <th>score_time</th>\n",
       "      <th>test_accuracy</th>\n",
       "      <th>train_accuracy</th>\n",
       "    </tr>\n",
       "  </thead>\n",
       "  <tbody>\n",
       "    <tr>\n",
       "      <th>0</th>\n",
       "      <td>14.128458</td>\n",
       "      <td>0.014856</td>\n",
       "      <td>0.699714</td>\n",
       "      <td>0.704893</td>\n",
       "    </tr>\n",
       "    <tr>\n",
       "      <th>1</th>\n",
       "      <td>27.499239</td>\n",
       "      <td>0.026452</td>\n",
       "      <td>0.544786</td>\n",
       "      <td>0.542071</td>\n",
       "    </tr>\n",
       "    <tr>\n",
       "      <th>2</th>\n",
       "      <td>11.986875</td>\n",
       "      <td>0.016552</td>\n",
       "      <td>0.540000</td>\n",
       "      <td>0.538464</td>\n",
       "    </tr>\n",
       "    <tr>\n",
       "      <th>3</th>\n",
       "      <td>12.505774</td>\n",
       "      <td>0.029130</td>\n",
       "      <td>0.552857</td>\n",
       "      <td>0.554518</td>\n",
       "    </tr>\n",
       "    <tr>\n",
       "      <th>4</th>\n",
       "      <td>16.101966</td>\n",
       "      <td>0.016623</td>\n",
       "      <td>0.515500</td>\n",
       "      <td>0.514429</td>\n",
       "    </tr>\n",
       "  </tbody>\n",
       "</table>\n",
       "</div>"
      ],
      "text/plain": [
       "    fit_time  score_time  test_accuracy  train_accuracy\n",
       "0  14.128458    0.014856       0.699714        0.704893\n",
       "1  27.499239    0.026452       0.544786        0.542071\n",
       "2  11.986875    0.016552       0.540000        0.538464\n",
       "3  12.505774    0.029130       0.552857        0.554518\n",
       "4  16.101966    0.016623       0.515500        0.514429"
      ]
     },
     "execution_count": 375,
     "metadata": {},
     "output_type": "execute_result"
    }
   ],
   "source": [
    "model_B_results = pd.DataFrame(model_B_results)\n",
    "model_B_results"
   ]
  },
  {
   "cell_type": "code",
   "execution_count": 376,
   "id": "ab95e897-f740-47d4-ba80-047b4b37a0cd",
   "metadata": {},
   "outputs": [
    {
     "name": "stdout",
     "output_type": "stream",
     "text": [
      "Average train accuracy: 57.087500000000006%\n",
      "Average test accuracy: 57.05714285714285%\n"
     ]
    }
   ],
   "source": [
    "print(f\"Average train accuracy: {model_B_results['train_accuracy'].mean() * 100}%\")\n",
    "print(f\"Average test accuracy: {model_B_results['test_accuracy'].mean() * 100}%\")"
   ]
  },
  {
   "cell_type": "markdown",
   "id": "24bc70bc-7d81-4e81-a6ed-41d8eb4d2777",
   "metadata": {},
   "source": [
    "## Train Model B without BMI column"
   ]
  },
  {
   "cell_type": "code",
   "execution_count": 377,
   "id": "fd53331f-5860-42e9-835a-5590c4f05c0b",
   "metadata": {},
   "outputs": [],
   "source": [
    "model_B_without_BMI = MLPClassifier(hidden_layer_sizes=(24, 48), alpha=0.0001, max_iter=500, tol=0.000001)"
   ]
  },
  {
   "cell_type": "code",
   "execution_count": 378,
   "id": "ce4aa225-c3ed-4461-9a0d-a9348d5cce58",
   "metadata": {},
   "outputs": [],
   "source": [
    "model_B_without_BMI = model_B_without_BMI.fit(X2, y)"
   ]
  },
  {
   "cell_type": "markdown",
   "id": "90b07e0f-f199-4ad6-92f2-8c4f6d232767",
   "metadata": {},
   "source": [
    "## Grade Model B Performance without BMI Column"
   ]
  },
  {
   "cell_type": "code",
   "execution_count": 379,
   "id": "e6f5fd5d-aa85-4986-b5a4-635613837a13",
   "metadata": {},
   "outputs": [],
   "source": [
    "model_B_without_BMI_results = cross_validate(model_B_without_BMI, X2, y, cv=5, scoring=[\"accuracy\"], return_train_score=True)"
   ]
  },
  {
   "cell_type": "code",
   "execution_count": 380,
   "id": "283f4aa6-2a80-4b8d-9f48-8601ad13c8fb",
   "metadata": {},
   "outputs": [
    {
     "data": {
      "text/html": [
       "<div>\n",
       "<style scoped>\n",
       "    .dataframe tbody tr th:only-of-type {\n",
       "        vertical-align: middle;\n",
       "    }\n",
       "\n",
       "    .dataframe tbody tr th {\n",
       "        vertical-align: top;\n",
       "    }\n",
       "\n",
       "    .dataframe thead th {\n",
       "        text-align: right;\n",
       "    }\n",
       "</style>\n",
       "<table border=\"1\" class=\"dataframe\">\n",
       "  <thead>\n",
       "    <tr style=\"text-align: right;\">\n",
       "      <th></th>\n",
       "      <th>fit_time</th>\n",
       "      <th>score_time</th>\n",
       "      <th>test_accuracy</th>\n",
       "      <th>train_accuracy</th>\n",
       "    </tr>\n",
       "  </thead>\n",
       "  <tbody>\n",
       "    <tr>\n",
       "      <th>0</th>\n",
       "      <td>36.779572</td>\n",
       "      <td>0.014457</td>\n",
       "      <td>0.890786</td>\n",
       "      <td>0.585411</td>\n",
       "    </tr>\n",
       "    <tr>\n",
       "      <th>1</th>\n",
       "      <td>30.292303</td>\n",
       "      <td>0.017910</td>\n",
       "      <td>0.509143</td>\n",
       "      <td>0.509804</td>\n",
       "    </tr>\n",
       "    <tr>\n",
       "      <th>2</th>\n",
       "      <td>37.900203</td>\n",
       "      <td>0.016496</td>\n",
       "      <td>0.680071</td>\n",
       "      <td>0.678929</td>\n",
       "    </tr>\n",
       "    <tr>\n",
       "      <th>3</th>\n",
       "      <td>30.250856</td>\n",
       "      <td>0.013781</td>\n",
       "      <td>0.554000</td>\n",
       "      <td>0.756554</td>\n",
       "    </tr>\n",
       "    <tr>\n",
       "      <th>4</th>\n",
       "      <td>22.372695</td>\n",
       "      <td>0.014303</td>\n",
       "      <td>0.500286</td>\n",
       "      <td>0.599482</td>\n",
       "    </tr>\n",
       "  </tbody>\n",
       "</table>\n",
       "</div>"
      ],
      "text/plain": [
       "    fit_time  score_time  test_accuracy  train_accuracy\n",
       "0  36.779572    0.014457       0.890786        0.585411\n",
       "1  30.292303    0.017910       0.509143        0.509804\n",
       "2  37.900203    0.016496       0.680071        0.678929\n",
       "3  30.250856    0.013781       0.554000        0.756554\n",
       "4  22.372695    0.014303       0.500286        0.599482"
      ]
     },
     "execution_count": 380,
     "metadata": {},
     "output_type": "execute_result"
    }
   ],
   "source": [
    "model_B_without_BMI_results = pd.DataFrame(model_B_without_BMI_results)\n",
    "model_B_without_BMI_results"
   ]
  },
  {
   "cell_type": "code",
   "execution_count": 381,
   "id": "3019ec65-c2bb-47eb-bb63-308299e57ba1",
   "metadata": {},
   "outputs": [
    {
     "name": "stdout",
     "output_type": "stream",
     "text": [
      "Average train accuracy: 62.603571428571435%\n",
      "Average test accuracy: 62.6857142857143%\n"
     ]
    }
   ],
   "source": [
    "print(f\"Average train accuracy: {model_B_without_BMI_results['train_accuracy'].mean() * 100}%\")\n",
    "print(f\"Average test accuracy: {model_B_without_BMI_results['test_accuracy'].mean() * 100}%\")"
   ]
  },
  {
   "cell_type": "markdown",
   "id": "375e1f22-e286-4010-8fd0-62a4edd7c558",
   "metadata": {},
   "source": [
    "# Model C Configuration\n",
    "\n",
    "- Hidden Layer Sizes = (50,)\n",
    "- Alpha = 0.0001\n",
    "- Max Iteration = 1000\n",
    "- Tolerance = 0.00001"
   ]
  },
  {
   "cell_type": "code",
   "execution_count": 397,
   "id": "7aa08b65-69d3-4d1c-a7cf-eb7d21d5ea25",
   "metadata": {},
   "outputs": [],
   "source": [
    "model_C = MLPClassifier(hidden_layer_sizes=(50,), alpha=0.0001, max_iter=500, tol=0.000001)"
   ]
  },
  {
   "cell_type": "markdown",
   "id": "ab2f95f4-18aa-4c65-b866-cec36c5253e2",
   "metadata": {},
   "source": [
    "## Train Model C  "
   ]
  },
  {
   "cell_type": "code",
   "execution_count": null,
   "id": "8c68bb0e-8045-48c5-ab48-e236b7b87f03",
   "metadata": {},
   "outputs": [],
   "source": [
    "model_C = model_C.fit(X, y)"
   ]
  },
  {
   "cell_type": "markdown",
   "id": "6286e3a7-9208-4290-8e43-acfc1e5d79de",
   "metadata": {},
   "source": [
    "## Grade Model C Performance "
   ]
  },
  {
   "cell_type": "code",
   "execution_count": 384,
   "id": "f14a4556-9331-461e-8930-1916aed60281",
   "metadata": {},
   "outputs": [],
   "source": [
    "model_C_results = cross_validate(model_C, X, y, cv=5, scoring=[\"accuracy\"], return_train_score=True)"
   ]
  },
  {
   "cell_type": "code",
   "execution_count": 385,
   "id": "e5404eba-65f3-4c98-8f33-4e1d5ef0a58a",
   "metadata": {},
   "outputs": [
    {
     "data": {
      "text/html": [
       "<div>\n",
       "<style scoped>\n",
       "    .dataframe tbody tr th:only-of-type {\n",
       "        vertical-align: middle;\n",
       "    }\n",
       "\n",
       "    .dataframe tbody tr th {\n",
       "        vertical-align: top;\n",
       "    }\n",
       "\n",
       "    .dataframe thead th {\n",
       "        text-align: right;\n",
       "    }\n",
       "</style>\n",
       "<table border=\"1\" class=\"dataframe\">\n",
       "  <thead>\n",
       "    <tr style=\"text-align: right;\">\n",
       "      <th></th>\n",
       "      <th>fit_time</th>\n",
       "      <th>score_time</th>\n",
       "      <th>test_accuracy</th>\n",
       "      <th>train_accuracy</th>\n",
       "    </tr>\n",
       "  </thead>\n",
       "  <tbody>\n",
       "    <tr>\n",
       "      <th>0</th>\n",
       "      <td>13.078813</td>\n",
       "      <td>0.010997</td>\n",
       "      <td>0.684857</td>\n",
       "      <td>0.695268</td>\n",
       "    </tr>\n",
       "    <tr>\n",
       "      <th>1</th>\n",
       "      <td>8.317873</td>\n",
       "      <td>0.016081</td>\n",
       "      <td>0.643286</td>\n",
       "      <td>0.641125</td>\n",
       "    </tr>\n",
       "    <tr>\n",
       "      <th>2</th>\n",
       "      <td>14.110397</td>\n",
       "      <td>0.011403</td>\n",
       "      <td>0.508357</td>\n",
       "      <td>0.508875</td>\n",
       "    </tr>\n",
       "    <tr>\n",
       "      <th>3</th>\n",
       "      <td>17.973523</td>\n",
       "      <td>0.016420</td>\n",
       "      <td>0.608357</td>\n",
       "      <td>0.608393</td>\n",
       "    </tr>\n",
       "    <tr>\n",
       "      <th>4</th>\n",
       "      <td>24.952249</td>\n",
       "      <td>0.018535</td>\n",
       "      <td>0.559143</td>\n",
       "      <td>0.562643</td>\n",
       "    </tr>\n",
       "  </tbody>\n",
       "</table>\n",
       "</div>"
      ],
      "text/plain": [
       "    fit_time  score_time  test_accuracy  train_accuracy\n",
       "0  13.078813    0.010997       0.684857        0.695268\n",
       "1   8.317873    0.016081       0.643286        0.641125\n",
       "2  14.110397    0.011403       0.508357        0.508875\n",
       "3  17.973523    0.016420       0.608357        0.608393\n",
       "4  24.952249    0.018535       0.559143        0.562643"
      ]
     },
     "execution_count": 385,
     "metadata": {},
     "output_type": "execute_result"
    }
   ],
   "source": [
    "model_C_results = pd.DataFrame(model_C_results)\n",
    "model_C_results"
   ]
  },
  {
   "cell_type": "code",
   "execution_count": 386,
   "id": "27b7c0d7-2858-4c17-8805-914b865ec074",
   "metadata": {},
   "outputs": [
    {
     "name": "stdout",
     "output_type": "stream",
     "text": [
      "Average train accuracy: 60.326071428571424%\n",
      "Average test accuracy: 60.08%\n"
     ]
    }
   ],
   "source": [
    "print(f\"Average train accuracy: {model_C_results['train_accuracy'].mean() * 100}%\")\n",
    "print(f\"Average test accuracy: {model_C_results['test_accuracy'].mean() * 100}%\")"
   ]
  },
  {
   "cell_type": "markdown",
   "id": "ff7b6e9b-06a6-4d60-bc22-c65934c23f9b",
   "metadata": {},
   "source": [
    "## Train Model C without BMI column"
   ]
  },
  {
   "cell_type": "code",
   "execution_count": 396,
   "id": "99dcb707-a806-4935-a0f8-e11ef7621683",
   "metadata": {},
   "outputs": [],
   "source": [
    "model_C_without_BMI = MLPClassifier(hidden_layer_sizes=(50), alpha=0.0001, max_iter=500, tol=0.000001)"
   ]
  },
  {
   "cell_type": "code",
   "execution_count": 388,
   "id": "edb9edba-2a4b-4196-828b-ec7987180bcf",
   "metadata": {},
   "outputs": [],
   "source": [
    "model_C_without_BMI = model_C_without_BMI.fit(X2, y)"
   ]
  },
  {
   "cell_type": "markdown",
   "id": "f4de892a-bc45-44e1-9c06-334fadd93224",
   "metadata": {},
   "source": [
    "## Grade Model C Performance without BMI Column"
   ]
  },
  {
   "cell_type": "code",
   "execution_count": 395,
   "id": "ab9f3096-4432-474a-b8d5-e97b23344065",
   "metadata": {},
   "outputs": [],
   "source": [
    "model_C_without_BMI_results = cross_validate(model_C_without_BMI, X2, y, cv=5, scoring=[\"accuracy\"], return_train_score=True)"
   ]
  },
  {
   "cell_type": "code",
   "execution_count": 390,
   "id": "89ec8437-7c19-44b2-95ef-6e8ef362bc8b",
   "metadata": {},
   "outputs": [
    {
     "data": {
      "text/html": [
       "<div>\n",
       "<style scoped>\n",
       "    .dataframe tbody tr th:only-of-type {\n",
       "        vertical-align: middle;\n",
       "    }\n",
       "\n",
       "    .dataframe tbody tr th {\n",
       "        vertical-align: top;\n",
       "    }\n",
       "\n",
       "    .dataframe thead th {\n",
       "        text-align: right;\n",
       "    }\n",
       "</style>\n",
       "<table border=\"1\" class=\"dataframe\">\n",
       "  <thead>\n",
       "    <tr style=\"text-align: right;\">\n",
       "      <th></th>\n",
       "      <th>fit_time</th>\n",
       "      <th>score_time</th>\n",
       "      <th>test_accuracy</th>\n",
       "      <th>train_accuracy</th>\n",
       "    </tr>\n",
       "  </thead>\n",
       "  <tbody>\n",
       "    <tr>\n",
       "      <th>0</th>\n",
       "      <td>7.483905</td>\n",
       "      <td>0.014368</td>\n",
       "      <td>0.530286</td>\n",
       "      <td>0.532196</td>\n",
       "    </tr>\n",
       "    <tr>\n",
       "      <th>1</th>\n",
       "      <td>14.206656</td>\n",
       "      <td>0.009010</td>\n",
       "      <td>0.575643</td>\n",
       "      <td>0.571679</td>\n",
       "    </tr>\n",
       "    <tr>\n",
       "      <th>2</th>\n",
       "      <td>14.813291</td>\n",
       "      <td>0.012847</td>\n",
       "      <td>0.663643</td>\n",
       "      <td>0.663571</td>\n",
       "    </tr>\n",
       "    <tr>\n",
       "      <th>3</th>\n",
       "      <td>11.573443</td>\n",
       "      <td>0.012598</td>\n",
       "      <td>0.547643</td>\n",
       "      <td>0.550071</td>\n",
       "    </tr>\n",
       "    <tr>\n",
       "      <th>4</th>\n",
       "      <td>35.168974</td>\n",
       "      <td>0.015866</td>\n",
       "      <td>0.648214</td>\n",
       "      <td>0.652482</td>\n",
       "    </tr>\n",
       "  </tbody>\n",
       "</table>\n",
       "</div>"
      ],
      "text/plain": [
       "    fit_time  score_time  test_accuracy  train_accuracy\n",
       "0   7.483905    0.014368       0.530286        0.532196\n",
       "1  14.206656    0.009010       0.575643        0.571679\n",
       "2  14.813291    0.012847       0.663643        0.663571\n",
       "3  11.573443    0.012598       0.547643        0.550071\n",
       "4  35.168974    0.015866       0.648214        0.652482"
      ]
     },
     "execution_count": 390,
     "metadata": {},
     "output_type": "execute_result"
    }
   ],
   "source": [
    "model_C_without_BMI_results = pd.DataFrame(model_C_without_BMI_results)\n",
    "model_C_without_BMI_results"
   ]
  },
  {
   "cell_type": "code",
   "execution_count": 391,
   "id": "5c485f35-fd1f-4bc5-a4bb-820fd4e76203",
   "metadata": {},
   "outputs": [
    {
     "name": "stdout",
     "output_type": "stream",
     "text": [
      "Average train accuracy: 59.400000000000006%\n",
      "Average test accuracy: 59.30857142857143%\n"
     ]
    }
   ],
   "source": [
    "print(f\"Average train accuracy: {model_C_without_BMI_results['train_accuracy'].mean() * 100}%\")\n",
    "print(f\"Average test accuracy: {model_C_without_BMI_results['test_accuracy'].mean() * 100}%\")"
   ]
  },
  {
   "cell_type": "markdown",
   "id": "079a9ebb-def1-482a-ab31-e1356a4fafc0",
   "metadata": {},
   "source": [
    "# Logistic Regression Classifier"
   ]
  },
  {
   "cell_type": "code",
   "execution_count": 392,
   "id": "e34d02fe-86d2-4ac8-8acf-ab8108d5f875",
   "metadata": {},
   "outputs": [],
   "source": [
    "regression_model = LogisticRegression(max_iter=1000)"
   ]
  },
  {
   "cell_type": "code",
   "execution_count": 393,
   "id": "0c1b3f49-99a9-491a-afd0-479a97595dea",
   "metadata": {},
   "outputs": [
    {
     "data": {
      "text/html": [
       "<style>#sk-container-id-17 {color: black;}#sk-container-id-17 pre{padding: 0;}#sk-container-id-17 div.sk-toggleable {background-color: white;}#sk-container-id-17 label.sk-toggleable__label {cursor: pointer;display: block;width: 100%;margin-bottom: 0;padding: 0.3em;box-sizing: border-box;text-align: center;}#sk-container-id-17 label.sk-toggleable__label-arrow:before {content: \"▸\";float: left;margin-right: 0.25em;color: #696969;}#sk-container-id-17 label.sk-toggleable__label-arrow:hover:before {color: black;}#sk-container-id-17 div.sk-estimator:hover label.sk-toggleable__label-arrow:before {color: black;}#sk-container-id-17 div.sk-toggleable__content {max-height: 0;max-width: 0;overflow: hidden;text-align: left;background-color: #f0f8ff;}#sk-container-id-17 div.sk-toggleable__content pre {margin: 0.2em;color: black;border-radius: 0.25em;background-color: #f0f8ff;}#sk-container-id-17 input.sk-toggleable__control:checked~div.sk-toggleable__content {max-height: 200px;max-width: 100%;overflow: auto;}#sk-container-id-17 input.sk-toggleable__control:checked~label.sk-toggleable__label-arrow:before {content: \"▾\";}#sk-container-id-17 div.sk-estimator input.sk-toggleable__control:checked~label.sk-toggleable__label {background-color: #d4ebff;}#sk-container-id-17 div.sk-label input.sk-toggleable__control:checked~label.sk-toggleable__label {background-color: #d4ebff;}#sk-container-id-17 input.sk-hidden--visually {border: 0;clip: rect(1px 1px 1px 1px);clip: rect(1px, 1px, 1px, 1px);height: 1px;margin: -1px;overflow: hidden;padding: 0;position: absolute;width: 1px;}#sk-container-id-17 div.sk-estimator {font-family: monospace;background-color: #f0f8ff;border: 1px dotted black;border-radius: 0.25em;box-sizing: border-box;margin-bottom: 0.5em;}#sk-container-id-17 div.sk-estimator:hover {background-color: #d4ebff;}#sk-container-id-17 div.sk-parallel-item::after {content: \"\";width: 100%;border-bottom: 1px solid gray;flex-grow: 1;}#sk-container-id-17 div.sk-label:hover label.sk-toggleable__label {background-color: #d4ebff;}#sk-container-id-17 div.sk-serial::before {content: \"\";position: absolute;border-left: 1px solid gray;box-sizing: border-box;top: 0;bottom: 0;left: 50%;z-index: 0;}#sk-container-id-17 div.sk-serial {display: flex;flex-direction: column;align-items: center;background-color: white;padding-right: 0.2em;padding-left: 0.2em;position: relative;}#sk-container-id-17 div.sk-item {position: relative;z-index: 1;}#sk-container-id-17 div.sk-parallel {display: flex;align-items: stretch;justify-content: center;background-color: white;position: relative;}#sk-container-id-17 div.sk-item::before, #sk-container-id-17 div.sk-parallel-item::before {content: \"\";position: absolute;border-left: 1px solid gray;box-sizing: border-box;top: 0;bottom: 0;left: 50%;z-index: -1;}#sk-container-id-17 div.sk-parallel-item {display: flex;flex-direction: column;z-index: 1;position: relative;background-color: white;}#sk-container-id-17 div.sk-parallel-item:first-child::after {align-self: flex-end;width: 50%;}#sk-container-id-17 div.sk-parallel-item:last-child::after {align-self: flex-start;width: 50%;}#sk-container-id-17 div.sk-parallel-item:only-child::after {width: 0;}#sk-container-id-17 div.sk-dashed-wrapped {border: 1px dashed gray;margin: 0 0.4em 0.5em 0.4em;box-sizing: border-box;padding-bottom: 0.4em;background-color: white;}#sk-container-id-17 div.sk-label label {font-family: monospace;font-weight: bold;display: inline-block;line-height: 1.2em;}#sk-container-id-17 div.sk-label-container {text-align: center;}#sk-container-id-17 div.sk-container {/* jupyter's `normalize.less` sets `[hidden] { display: none; }` but bootstrap.min.css set `[hidden] { display: none !important; }` so we also need the `!important` here to be able to override the default hidden behavior on the sphinx rendered scikit-learn.org. See: https://github.com/scikit-learn/scikit-learn/issues/21755 */display: inline-block !important;position: relative;}#sk-container-id-17 div.sk-text-repr-fallback {display: none;}</style><div id=\"sk-container-id-17\" class=\"sk-top-container\"><div class=\"sk-text-repr-fallback\"><pre>LogisticRegression(max_iter=1000)</pre><b>In a Jupyter environment, please rerun this cell to show the HTML representation or trust the notebook. <br />On GitHub, the HTML representation is unable to render, please try loading this page with nbviewer.org.</b></div><div class=\"sk-container\" hidden><div class=\"sk-item\"><div class=\"sk-estimator sk-toggleable\"><input class=\"sk-toggleable__control sk-hidden--visually\" id=\"sk-estimator-id-17\" type=\"checkbox\" checked><label for=\"sk-estimator-id-17\" class=\"sk-toggleable__label sk-toggleable__label-arrow\">LogisticRegression</label><div class=\"sk-toggleable__content\"><pre>LogisticRegression(max_iter=1000)</pre></div></div></div></div></div>"
      ],
      "text/plain": [
       "LogisticRegression(max_iter=1000)"
      ]
     },
     "execution_count": 393,
     "metadata": {},
     "output_type": "execute_result"
    }
   ],
   "source": [
    "regression_model.fit(X, y)"
   ]
  },
  {
   "cell_type": "code",
   "execution_count": 394,
   "id": "a8c2eb7e-410b-4d8b-93f3-079e8eea886d",
   "metadata": {},
   "outputs": [
    {
     "name": "stdout",
     "output_type": "stream",
     "text": [
      "Accuracy: 70.91714285714286%\n"
     ]
    }
   ],
   "source": [
    "print(f'Accuracy: {logisticRegr.score(X, y) * 100}%')"
   ]
  },
  {
   "cell_type": "code",
   "execution_count": null,
   "id": "1d43afea-5861-44ba-8a76-81edb6641132",
   "metadata": {},
   "outputs": [],
   "source": []
  }
 ],
 "metadata": {
  "kernelspec": {
   "display_name": "Python 3 (ipykernel)",
   "language": "python",
   "name": "python3"
  },
  "language_info": {
   "codemirror_mode": {
    "name": "ipython",
    "version": 3
   },
   "file_extension": ".py",
   "mimetype": "text/x-python",
   "name": "python",
   "nbconvert_exporter": "python",
   "pygments_lexer": "ipython3",
   "version": "3.10.12"
  }
 },
 "nbformat": 4,
 "nbformat_minor": 5
}
